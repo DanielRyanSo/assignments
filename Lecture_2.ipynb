{
 "cells": [
  {
   "cell_type": "markdown",
   "metadata": {},
   "source": [
    "<==========================><br>\n",
    "Owner: Edouard Ybañez<br>\n",
    "Lesson: Lecture 3<br>\n",
    "Instructor: Gerard Ompad<br>\n",
    "<==========================>\n"
   ]
  },
  {
   "cell_type": "markdown",
   "metadata": {},
   "source": [
    "$\\textbf{Programming Assignments}$\n",
    "-\n",
    "$\\textbf{Task 1}$\n",
    "-\n",
    "Intructions:\n",
    "- Use Latex to write your solution.\n",
    "- Push your solution to your github repository.\n",
    "\n",
    "Task 1:\n",
    "Consider the following experiment:\n",
    "\n",
    "1. The experiment consists of $n$ identical trials.\n",
    "2. The outcome of each trial falls into one of $k$ classes or cells.\n",
    "3. The probability that the outcome of a single trial falls into cell $i$, is $p_i,i = 1,2,...,k$ and remains the same from trial to trial. Notice that $p_1+p_2+p_3+···+p_k =1.$\n",
    "4. The trials are independent.\n",
    "5. The random variables of interest are $Y_1 , Y_2 , . . . , Y_k$, where $Y_i$ equals the number of trials for which the outcome falls into cell $i$. Notice that $Y_1 +Y_2 +Y_3 +···+Y_k =n$.\n",
    "6. The joint probability distribution $P(y) = \\frac{n!}{y_1!y_2!y_3!...y_n!} P_1^{y_1} P_2^{y_2} P_3^{y_3}....P_n^{y_n}$\n",
    "\n",
    "Question 1: Show that the expected value $E[y] = \\Sigma y \\cdotp P(y) = n \\cdot p_i$\n",
    "\n",
    "Question 2: Given the following data\n",
    "\\begin{gather}\n",
    "\\begin{bmatrix}\n",
    "\\begin{array}{c|c}\n",
    "Age & Proportion \\\\\n",
    "18-24 & 0.18 \\\\\n",
    "25-34 & 0.23 \\\\\n",
    "35-44 & 0.16 \\\\\n",
    "45-64 & 0.27 \\\\\n",
    "65-100 & 0.16 \\\\\n",
    "\\end{array}\n",
    "\\end{bmatrix}\n",
    "\\end{gather}\n",
    "\n",
    "If 500 adults are sampled  randomly, find the probability rhat the sample contains 100 person between 18 and 24, 200 between, 200 between the ages of 25 and 34, and 200 between the ages of 45 and 64.. What is the expected value for to obtain a person in the 65 and above?\n",
    "<br>=========================================================================="
   ]
  },
  {
   "cell_type": "markdown",
   "metadata": {},
   "source": [
    "## Task 1: Question 1"
   ]
  },
  {
   "cell_type": "markdown",
   "metadata": {},
   "source": [
    "\n",
    "\n",
    "<b>Step 1: </b>Express the expected value $E[y]$ in terms of $P(y)$:\n",
    "\n",
    "- $E[y] = \\Sigma_{y} \\, y \\cdot P(y)$ \n",
    "\n",
    "<b>Step 2: </b>Substitute the given join probability distribution  for $P(y)$. \n",
    "\n",
    "- $E[y] = \\Sigma_{y} \\, y \\cdot (\\frac{n!}{y_1!y_2!y_3!...y_k!} \\cdot p_1^{y_1} p_2^{y_2} p_3^{y_3}....p_k^{y_k}) $ \n",
    "\n",
    "<b>Step 3: </b>Expand the sum:\n",
    "\n",
    "- $E[y] = \\Sigma_{y} \\frac{n!}{y_1!y_2!y_3!...y_k!} \\cdot (y_1 \\cdot p_1) \\cdot (y_2 \\cdot p_2) \\cdot (y_3 \\cdot p_3) \\ldots (y_k \\cdot p_k)$\n",
    "\n",
    "<b>Step 4: </b>Rearrange the terms:\n",
    "\n",
    "- $E[y] =  \\frac{n!}{y_1!y_2!y_3!...y_k!} \\cdot \\Sigma_{y} (y_1 \\cdot p_1) \\cdot (y_2 \\cdot p_2) \\cdot (y_3 \\cdot p_3) \\ldots (y_k \\cdot p_k)$\n",
    "\n",
    "<b>Step 5: </b>Observe that the sum is a product of sums:\n",
    "\n",
    "- $E[y] =  \\frac{n!}{y_1!y_2!y_3!...y_k!} \\cdot  ( \\Sigma_{y_1} \\,y_1 \\cdot p_1) \\cdot (\\Sigma_{y_2} \\, y_2 \\cdot p_2) \\cdot ( \\Sigma_{y_3} \\, y_3 \\cdot p_3) \\ldots ( \\Sigma_{y_k} \\, y_k \\cdot p_k)$\n",
    "\n",
    "<b>Step 6: </b>Each individual sum is simply th expected value of a binomial distribution with parameter $n$ and $p_i$:\n",
    "\n",
    "- $E[Y_i] = n \\cdot p_i$\n",
    "\n",
    "<b>Step 7: </b>Subsitute the expected values of each $Y_i$:\n",
    "\n",
    "- $E[y] = \\frac{n!}{y_1!y_2!y_3!...y_k!} \\cdot (n \\cdot p_1) \\cdot (n \\cdot p_2) \\cdot (n \\cdot p_3) \\ldots  (n \\cdot p_k)$\n",
    "\n",
    "<b>Step 8: </b>Notice that $n!$ and $y_1!y_2!y_3!...y_k!$ cancel out:\n",
    "\n",
    "- $E[y] = n \\cdot p_1 \\cdot n \\cdot p_2 \\cdot n \\cdot p_3 \\ldots n \\cdot p_k$\n",
    "\n",
    "We simplify the expression by combining terms and recognizing that the coeffcient $(y_1!y_2!y_3!...y_k!)$ can be simplified to $n!$, the number of permutations of outcomes.\n",
    "\n",
    "<b>Step 9: </b>Simplify\n",
    "\n",
    "- $E[y] = n  (p_1 \\cdot  p_2 \\cdot  p_3 \\ldots  p_k)$\n",
    "\n",
    "<b>Step 10: </b>Recall that $p_1 + p_2 + p_3 + \\ldots + p_k = 1 $\n",
    "\n",
    "- $E[y] = n \\cdot 1$\n",
    "- $E[y] = n \\cdot p_i$\n",
    "<br>\n",
    "\n",
    "<b>Conclusion: </b> Thus, the expected value  E[y] equals to $\\Sigma y \\cdotp P(y)$, which is equal to $n \\cdot p_i$ .\n",
    "<br>=========================================================================="
   ]
  },
  {
   "cell_type": "markdown",
   "metadata": {},
   "source": [
    "## Task 1: Question 2"
   ]
  },
  {
   "cell_type": "markdown",
   "metadata": {},
   "source": [
    "<b>Given:</b>\n",
    "- $n = 500$ (total number of adults sampled)\n",
    "- $p_{65-100} = 0.16$ (probability of obtaining a person aged 65 and above)\n",
    "\n",
    "<br>\n",
    "\n",
    "<b>Step 1: </b>Apply the Formula \n",
    "The expected value $E[Y_{65+}]$ is given by:\n",
    "\n",
    "- $ E[Y_{65+}] =  n \\cdot p_{65-100}$\n",
    "\n",
    "<b>Step 2: </b>Substitute Values\n",
    "\n",
    "- $ E[Y_{65+}] = 500 \\cdot 0.16$\n",
    "- $ E[Y_{65+}] = 80$\n",
    "\n",
    "<b>Conclusion: </b>Therefore, the expected value to obtain a person aged 65 and 100 given a sample size of 500 adults is 80.\n",
    "<br>=========================================================================="
   ]
  },
  {
   "cell_type": "markdown",
   "metadata": {},
   "source": [
    "# Task 2"
   ]
  },
  {
   "cell_type": "markdown",
   "metadata": {},
   "source": [
    "Task 2: Consider the following experiment:\n",
    "\n",
    "1. The experiment consists of a fixed number, $n$, of identical trials.\n",
    "2. Each trial results in one of two outcomes: success, $S$, or failure, $F$.\n",
    "3. The probability of success on a single trial is equal to some value $p$ and remains the same from trial to trial. The probability of a failure is equal to q = $(1 − p)$.\n",
    "4. The trials are independent.\n",
    "5. The random variable of interest is $Y$ , the number of successes observed during the $n$ trials.\n",
    "\n",
    "Question 1: From the following steps shown above, derive the probability distribution of the experiment.\n",
    "\n",
    "Question 2: Show that the expectation of this probability distribution is $E[y] = \\Sigma y \\cdotp P(y) = np$.\n",
    "\n",
    "Question 3: Experience has shown that 30% of all persons afflicted by a certain illness recover. A drug company has developed a new medication. Ten people with the illness were selected at random and received the medication; nine recovered shortly thereafter. Suppose that the medication was absolutely worthless. What is the probability that at least nine of ten receiving the medication will recover?\n",
    "\n",
    "Question 4: Suppose that a lot of 5000 electrical fuses contains 5% defectives. If a sample of 5 fuses is tested, find the probability of observing at least one defective.\n",
    "<br>=========================================================================="
   ]
  },
  {
   "cell_type": "markdown",
   "metadata": {},
   "source": [
    "## Task 2: Question 1"
   ]
  },
  {
   "cell_type": "markdown",
   "metadata": {},
   "source": [
    "### From the following steps shown above, derive the probability distribution of the experiment."
   ]
  },
  {
   "cell_type": "markdown",
   "metadata": {},
   "source": [
    "The probability distribution of $Y$ follows the binomial distribution, which can be calculated using the binomial probability mass function:\n",
    "\n",
    "- $P(Y = y) = \\binom{n}{y} \\cdot p^y \\cdot q^{n-y}$\n",
    "\n",
    "where:\n",
    "\n",
    "- $P(Y = y)$ is the probabiltiy of observing $y$ successes in $n$ trials.\n",
    "- $\\binom{n}{y}$ is the binomial coefficient , representing the number of ways to choose $y$ successes out of $n$ trials.\n",
    "- $p^y$ represents the probability of having $y$ successes.\n",
    "- $q^{n-y}$ represents the probability of having  $(n - y)$ failures.\n",
    "<br>=========================================================================="
   ]
  },
  {
   "cell_type": "markdown",
   "metadata": {},
   "source": [
    "\n",
    "## Task 2: Question 2\n"
   ]
  },
  {
   "cell_type": "markdown",
   "metadata": {},
   "source": [
    "### Show that the expectation of this probability distribution is $E[y] = \\Sigma y \\cdotp P(y) = np$."
   ]
  },
  {
   "cell_type": "markdown",
   "metadata": {},
   "source": [
    "Step 1: </b>Define the Expectation\n",
    "\n",
    "- $E[y] = \\Sigma_{y = 0}^n \\cdot P(y)$.\n",
    "\n",
    "<b>Step 2: </b>Substitute the Binomial Probability Mass Function\n",
    "\n",
    "- $E[y] = \\Sigma_{y = 0}^n \\cdotp \\binom{n}{y} \\cdot p^y \\cdot q^{n-y}$.\n",
    "\n",
    "<b>Step 3: </b>Simplify the Expression\n",
    "\n",
    "Replace q with 1-p and rearranging terms.\n",
    "\n",
    "- $E[y] = \\Sigma_{y = 0}^n \\frac{n!}{y!(n-y)!} \\cdot (p)^y \\cdot (1-p)^{(n-y)}$.\n",
    "\n",
    "<b>Step 4: </b>Factor Out Constants\n",
    "\n",
    "Since $p$ is constant, we can  factor it out of the summation.\n",
    "\n",
    "- $E[y] = np \\, \\Sigma_{y = 0}^n \\frac{(n-1)!}{(y-1)!(n-y)!} \\cdot (p)^{(y-1)} \\cdot (1-p)^{(n-y)}$.\n",
    "\n",
    "<b>Step 5: </b>Rearrange the Terms\n",
    "\n",
    "- $E[y] = np \\, \\Sigma_{y = 1}^n \\frac{(n-1)!}{(y-1)!(n-y)!} \\cdot (p)^{(y-1)} \\cdot (1-p)^{(n-y)}$.\n",
    " \n",
    "<b>Step 6: </b>Apply the Binomial Theorem\n",
    "\n",
    "The binomial theorem states that for any positive integers n and k, one has the following equality:\n",
    "\n",
    "$(x+y)^{n}= \\Sigma_{k=0}^{n}\\binom{n}{k} x^{k} y^{n-k}$ \n",
    "\n",
    " where: $\\binom{n}{k}$ denotes the binomial coefficient.\n",
    "\n",
    "- $(p + q)^ {n -1} = \\Sigma_{k = 0}^{n-1} \\binom{n-1}{y} \\cdot (p)^{(k)} \\cdot (q)^{(n-1-k)}$\n",
    "\n",
    "By comparing the terms in th expression to the binomial theorem, we can see that:\n",
    "\n",
    "- $(p + q)^ {n-1} = \\Sigma_{y = 0}^{n} \\frac{(n-1)!}{(y)!(n-y)!} \\cdot (p)^{(y)} \\cdot (q)^{(n-y)}$\n",
    "\n",
    "<b>Step 7: </b>Simplify the expression\n",
    "\n",
    "The expansion of $(p + (1-p))^{n-1}$ is simply $1^{n-1}$, which equals 1. Therefore, the sum becomes 1.\n",
    "\n",
    "\n",
    "\n",
    "This simplifies to:\n",
    "\n",
    "$E[y] = np \\cdot 1$ which leads to the final simplification of $E[y] = np$.\n",
    "\n",
    "<b>Conclusion: </b>Thus, the expectation of a binomial distribution, $E[y] = np$, validates that the mean equals the product of the number of trials and the probability of success.\n",
    "<br>=========================================================================="
   ]
  },
  {
   "cell_type": "markdown",
   "metadata": {},
   "source": [
    "## Task 2: Question 3"
   ]
  },
  {
   "cell_type": "markdown",
   "metadata": {},
   "source": [
    "### Experience has shown that 30% of all persons afflicted by a certain illness recover. A drug company has developed a new medication. Ten people with the illness were selected at random and received the medication; nine recovered shortly thereafter. Suppose that the medication was absolutely worthless. What is the probability that at least nine of ten receiving the medication will recover?\n"
   ]
  },
  {
   "cell_type": "markdown",
   "metadata": {},
   "source": [
    "<b>Given:</b>\n",
    "|\n",
    "-  Probability of success (recovery) $p = 0.30$\n",
    "-  Number of trials $n = 10$\n",
    "- Number of successes (recoveries) $y = 9$\n",
    "\n",
    "<b>Solution:</b>\n",
    "\n",
    "Using the binomial probability mass function:\n",
    "\n",
    "- $P(Y \\geq 9) = P(Y = 9) + P(Y = 10)$\n",
    "- $P(Y \\geq 9) = \\binom{10}{9} \\cdot (0.30)^9 \\cdot (1 - 0.30)^{10-9} + \\binom{10}{10} \\cdot (1 - 0.30)^{10-10}$\n",
    "- $P(Y \\geq 9) = 10 \\cdot (0.30)^9 \\cdot (0.70)^1 + 1 \\cdot (0.30)^{10}  \\cdot (0.70)^0$\n",
    "- $ P(Y \\geq 9) = 10 \\cdot (0.30)^9 \\cdot 0.70 + (0.30)^{10}$\n",
    "- $ P(Y \\geq 9) = 0.000137781 + 0.0000059049$\n",
    "- $ P (Y \\geq 9) \\approx 0.0001436869$ or $0.014 \\%$\n",
    "\n",
    "<b>Conclusion: </b>Hence, the probability that at least nine of ten receiving the medication will recover is $0.014 \\%$.\n",
    "<br>=========================================================================="
   ]
  },
  {
   "cell_type": "markdown",
   "metadata": {},
   "source": [
    "## Task 2: Question 4"
   ]
  },
  {
   "cell_type": "markdown",
   "metadata": {},
   "source": [
    "### Suppose that a lot of 5000 electrical fuses contains 5% defectives. If a sample of 5 fuses is tested, find the probability of observing at least one defective."
   ]
  },
  {
   "cell_type": "markdown",
   "metadata": {},
   "source": [
    "<b>Given:</b>\n",
    "- Probability of success (a fuse being non-defective) $p = 0.95$\n",
    "- Number of trials $n = 5$\n",
    "\n",
    "<b>Solution:</b>\n",
    "\n",
    "- $P(At \\, least \\, one \\, defective) = 1 - P(No \\, defective)$\n",
    "- $P(At \\, least \\, one \\, defective) = 1 - P(Y = 0)$\n",
    "\n",
    "Using the binomial probability mass function:\n",
    "\n",
    "- $P(Y=0) = \\binom {5}{0} \\cdot (0.05)^0 \\cdot (1 - 0.05)^{5-0}$\n",
    "- $P(Y = 0) = (0.95)^5$\n",
    "- $P(At \\, least \\, one \\, defective) = 1 - (0.95)^5$\n",
    "- $P(At \\, least \\, one \\, defective) \\approx 1 - 0.7738$\n",
    "- $P(At \\, least \\, one \\, defective) \\approx 0.2262$\n",
    "\n",
    "<b>Conclusion: </b>Therefore, the probability of observing at least one defective fuse in a sample of 5 fuses is approximately $0.2262$ or $22.62\\%$\n",
    "<br>=========================================================================="
   ]
  },
  {
   "cell_type": "markdown",
   "metadata": {},
   "source": [
    "# Task 3"
   ]
  },
  {
   "cell_type": "markdown",
   "metadata": {},
   "source": [
    "Task 3: Consider a probility distribution of $p(y) = \\frac{\\lambda^y}{y!} e^{-\\lambda}$.\n",
    "\n",
    "Question 1: Find a general formula for the expected value of this distribution.\n",
    "\n",
    "Question 2: A certain type of tree has seedlings randomly dispersed in a large area, with the mean density of seedlings being approximately five per square yard. If a forester randomly locates ten 1-square-yard sampling regions in the area, find the probability that none of the regions will contain seedlings.\n",
    "<br>=========================================================================="
   ]
  },
  {
   "cell_type": "markdown",
   "metadata": {},
   "source": [
    "## Task 3: Question 1"
   ]
  },
  {
   "cell_type": "markdown",
   "metadata": {},
   "source": [
    "### Find a general formula for the expected value of this distribution."
   ]
  },
  {
   "cell_type": "markdown",
   "metadata": {},
   "source": [
    "Given probability distribution: \n",
    "\n",
    "$p(y) = \\frac{\\lambda^y}{y!} e^{-\\lambda}$\n",
    "\n",
    "Expected value formula: \n",
    "\n",
    "$E[Y] = \\Sigma_{y=0} ^ \\infty \\, y \\cdot p(y)$\n",
    "\n",
    "<br>\n",
    "\n",
    "<b>Step 1: </b>Substitute the Probability Distribution into the Expected Value Formula\n",
    "\n",
    "- $E[Y] = \\Sigma_{y=0} ^ \\infty \\, y \\cdot \\frac{\\lambda^y}{y!} e^{-\\lambda}$\n",
    "\n",
    "<b>Step 2: </b>Factor out Constants\n",
    "\n",
    "- $E[Y] = e^{-\\lambda} \\Sigma_{y=0} ^ \\infty \\, \\frac{\\lambda^y}{(y - 1)!} $\n",
    "\n",
    "<b>Step 3: </b>Since $y = 0$ makes $\\frac{\\lambda^y}{(y - 1)!}$ undefined, we shift the index of summation to start from $y = 1$.\n",
    "\n",
    "- $E[Y] = e^{-\\lambda} \\Sigma_{y=1} ^ \\infty \\, \\frac{\\lambda^y}{(y - 1)!} $\n",
    "\n",
    "<b>Step 4: </b>Rewrite $\\frac{\\lambda^y}{(y - 1)!}$ as $\\frac{\\lambda^{(y-1)+ 1}}{(y - 1)!}$ \n",
    "\n",
    "- $E[Y] = e^{-\\lambda} \\Sigma_{y=1} ^ \\infty \\,  \\frac{\\lambda^{(y-1)+ 1}}{(y - 1)!}$\n",
    "\n",
    "<b>Step 5: </b>Change the index of summation to start from $y = 0$ to simplify the expression.\n",
    "\n",
    "- $E[Y] = e^{-\\lambda} \\Sigma_{y=0} ^ \\infty \\,  \\frac{\\lambda^{y+1}}{y!}$\n",
    "\n",
    "<b>Step 6: </b>Factor out $\\lambda$\n",
    "\n",
    "- $E[Y] = e^{-\\lambda} \\lambda \\Sigma_{y=0} ^ \\infty \\, \\frac {\\lambda^{y}}{y!}$\n",
    "\n",
    "<b>Step 7: </b>Recall that $e^{\\lambda} =  \\Sigma_{y=0} ^ \\infty \\, \\frac {\\lambda^{y}}{y!}$\n",
    "\n",
    "-  $E[Y] = e^{-\\lambda} \\lambda e^{\\lambda} $\n",
    "\n",
    "<b>Step 8: </b>Simplify: \n",
    "\n",
    "-  $E[Y] =  \\lambda$\n",
    "\n",
    "<b>Conclusion: </b>To conclude, the general formula for the expected value of the given distribution is $E[Y] =  \\lambda$\n",
    "\n",
    "<br>=========================================================================="
   ]
  },
  {
   "cell_type": "markdown",
   "metadata": {},
   "source": [
    "## Task 3: Question 2"
   ]
  },
  {
   "cell_type": "markdown",
   "metadata": {},
   "source": [
    "### A certain type of tree has seedlings randomly dispersed in a large area, with the mean density of seedlings being approximately five per square yard. If a forester randomly locates ten 1-square-yard sampling regions in the area, find the probability that none of the regions will contain seedlings."
   ]
  },
  {
   "cell_type": "markdown",
   "metadata": {},
   "source": [
    "<b>Given:</b>\n",
    "- $\\lambda = 5$\n",
    "\n",
    "<b>Solution: </b>\n",
    "\n",
    "Using the formula for the Poisson distribution:\n",
    "\n",
    "- $P(Y = y) = \\frac{\\lambda^y}{y!} e^{-\\lambda}$\n",
    "\n",
    "<br>\n",
    "\n",
    "For $y = 0$:\n",
    "\n",
    "$ P(Y = 0) = \\frac{5^0}{0!} e^{-5} $\n",
    "\n",
    "$ = e^{-5} $\n",
    "\n",
    "<br>\n",
    "\n",
    "Calculating this probability:\n",
    "\n",
    "$P(Y = 0) \\approx e^{-5} $\n",
    "\n",
    "$\\approx 0.006737947$\n",
    "\n",
    "<b>Conclusion: </b>The probability that none of the regions will contain seedlings is approximately $ 0.0067$ or $ 0.67\\%$."
   ]
  }
 ],
 "metadata": {
  "kernelspec": {
   "display_name": "base",
   "language": "python",
   "name": "python3"
  },
  "language_info": {
   "name": "python",
   "version": "3.11.7"
  }
 },
 "nbformat": 4,
 "nbformat_minor": 2
}
